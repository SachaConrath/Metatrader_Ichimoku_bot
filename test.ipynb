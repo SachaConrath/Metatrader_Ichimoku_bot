{
 "cells": [
  {
   "cell_type": "code",
   "execution_count": 5,
   "metadata": {},
   "outputs": [],
   "source": [
    "import strategy\n",
    "import mt5_interface"
   ]
  },
  {
   "cell_type": "code",
   "execution_count": 8,
   "metadata": {},
   "outputs": [
    {
     "name": "stdout",
     "output_type": "stream",
     "text": [
      "Auteur du package MetaTrader5 :  MetaQuotes Ltd.\n",
      "Version du package MetaTrader5 :  5.0.43\n",
      "Total transactions= 13\n"
     ]
    }
   ],
   "source": [
    "from datetime import datetime\n",
    "import MetaTrader5 as mt5\n",
    "# affiche les données sur le package MetaTrader 5\n",
    "print(\"Auteur du package MetaTrader5 : \",mt5.__author__)\n",
    "print(\"Version du package MetaTrader5 : \",mt5.__version__)\n",
    " \n",
    "# établit une connexion avec le terminal MetaTrader 5\n",
    "if not mt5.initialize():\n",
    "    print(\"initialize () a échoué, code d'erreur =\",mt5.last_error())\n",
    "    quit()\n",
    " \n",
    "# obtient le nombre de transactions dans l'historique\n",
    "from_date=datetime(2022,12,9,23,59,59)\n",
    "to_date=datetime.now()\n",
    "deals=mt5.history_deals_total(from_date, to_date)\n",
    "if deals>0:\n",
    "    print(\"Total transactions=\",deals)\n",
    "else:\n",
    "    print(\"Transactions non trouvées dans l'historique\")\n",
    " \n",
    "# ferme la connexion au terminal MetaTrader 5"
   ]
  },
  {
   "cell_type": "code",
   "execution_count": 9,
   "metadata": {},
   "outputs": [],
   "source": [
    "deals = mt5.history_deals_get(from_date, to_date, group=\"*,!*EUR*,!*GBP*\")"
   ]
  },
  {
   "cell_type": "code",
   "execution_count": 11,
   "metadata": {},
   "outputs": [
    {
     "data": {
      "text/plain": [
       "13"
      ]
     },
     "execution_count": 11,
     "metadata": {},
     "output_type": "execute_result"
    }
   ],
   "source": [
    "len(deals)"
   ]
  },
  {
   "cell_type": "code",
   "execution_count": 33,
   "metadata": {},
   "outputs": [
    {
     "name": "stdout",
     "output_type": "stream",
     "text": [
      "0.0\n",
      "-25.03\n",
      "-25.03\n",
      "-1.3500000000000014\n",
      "-1.3500000000000014\n",
      "-69.71000000000001\n",
      "-69.71000000000001\n",
      "-121.9\n",
      "-121.9\n",
      "-121.9\n",
      "-180.92000000000002\n",
      "-180.92000000000002\n",
      "-136.61\n",
      "-136.61\n",
      "-94.22000000000001\n",
      "-94.22000000000001\n",
      "-94.22000000000001\n",
      "-36.06000000000002\n",
      "-36.06000000000002\n"
     ]
    }
   ],
   "source": [
    "day = 5\n",
    "from_date=datetime(2022,12,day)\n",
    "to_date=datetime(2022,12,day,23,59,59)\n",
    "deals = mt5.history_deals_get(from_date, to_date,group=\"MNQZ22\")\n",
    "\n",
    "Profit_Tot = 0.0\n",
    "for deal in deals:\n",
    "    Profit_Tot = Profit_Tot + deal.profit\n",
    "    print(Profit_Tot)\n",
    "\n",
    "print(Profit_Tot)"
   ]
  },
  {
   "cell_type": "code",
   "execution_count": 16,
   "metadata": {},
   "outputs": [
    {
     "data": {
      "text/plain": [
       "-50.109999999999985"
      ]
     },
     "execution_count": 16,
     "metadata": {},
     "output_type": "execute_result"
    }
   ],
   "source": [
    "Profit_Tot"
   ]
  },
  {
   "cell_type": "code",
   "execution_count": 34,
   "metadata": {},
   "outputs": [
    {
     "data": {
      "text/plain": [
       "235"
      ]
     },
     "execution_count": 34,
     "metadata": {},
     "output_type": "execute_result"
    }
   ],
   "source": [
    "-50+183+102+94-94"
   ]
  },
  {
   "cell_type": "code",
   "execution_count": null,
   "metadata": {},
   "outputs": [],
   "source": []
  }
 ],
 "metadata": {
  "kernelspec": {
   "display_name": "pytorch",
   "language": "python",
   "name": "python3"
  },
  "language_info": {
   "codemirror_mode": {
    "name": "ipython",
    "version": 3
   },
   "file_extension": ".py",
   "mimetype": "text/x-python",
   "name": "python",
   "nbconvert_exporter": "python",
   "pygments_lexer": "ipython3",
   "version": "3.9.15 (main, Nov 24 2022, 14:39:17) [MSC v.1916 64 bit (AMD64)]"
  },
  "orig_nbformat": 4,
  "vscode": {
   "interpreter": {
    "hash": "cf0b9eeeb2450470e779ce9fc61928a7162b34b7be5e0b0136a3032199601d21"
   }
  }
 },
 "nbformat": 4,
 "nbformat_minor": 2
}
